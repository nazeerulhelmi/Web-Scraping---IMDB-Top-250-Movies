{
 "cells": [
  {
   "cell_type": "code",
   "execution_count": 1,
   "id": "6e187922",
   "metadata": {},
   "outputs": [],
   "source": [
    "# import libraries\n",
    "from bs4 import BeautifulSoup\n",
    "import requests\n",
    "import openpyxl"
   ]
  },
  {
   "cell_type": "code",
   "execution_count": 2,
   "id": "4d90e849",
   "metadata": {},
   "outputs": [],
   "source": [
    "# create an excel file\n",
    "excel = openpyxl.Workbook()\n",
    "\n",
    "# identify active sheet\n",
    "sheet = excel.active\n",
    "\n",
    "# change sheet name\n",
    "sheet.title = 'Top 250 Rated Movies'\n",
    "\n",
    "# create a row(header) to store values\n",
    "sheet.append(['Rank', 'Title','Release Year', 'IMDB Rating'])"
   ]
  },
  {
   "cell_type": "code",
   "execution_count": 3,
   "id": "9005f270",
   "metadata": {},
   "outputs": [],
   "source": [
    "try:\n",
    "    #access website\n",
    "    source = requests.get('https://www.imdb.com/chart/top/')\n",
    "\n",
    "    # check if url valid\n",
    "    source.raise_for_status()\n",
    "    \n",
    "    # take the html content of the website as string\n",
    "    soup = BeautifulSoup(source.text,'html.parser')\n",
    "    #print(soup)\n",
    "    \n",
    "    # find the tag(tbody) and the class(lister_list) that holds the list\n",
    "    #movies = soup.find('tbody', class_ = 'lister-list')\n",
    "    #print(movies)\n",
    "    \n",
    "    # find the tag(tbody) and the class(lister_list) that holds the tag(tr) of all the rows of the list \n",
    "    movies = soup.find('tbody', class_ = 'lister-list').find_all('tr')\n",
    "    #print(len(movies)) #check how many tag is there - supposedly 250\n",
    "    \n",
    "    for movie in movies:\n",
    "        # find the tag(td) and the class(titleColumn), then the text in the tag(a) for the movie title\n",
    "        title = movie.find('td', class_ = 'titleColumn').a.text\n",
    "        #print(title) - type:string\n",
    "        \n",
    "        # find the tag(td) and the class(titleColumn), then the text in it, then taking the first index after splitting at full stop\n",
    "        rank = movie.find('td', class_ = 'titleColumn').get_text(strip=True).split('.')[0]\n",
    "        #print(rank) - type:string\n",
    "        \n",
    "        # find the tag(td) and the class(titleColumn), then the text in the tag(span) for the movie's year while omitting the parenthesis('()')\n",
    "        year = movie.find('td', class_ = 'titleColumn').span.text.strip('()')\n",
    "        #print(year) - type:string\n",
    "        \n",
    "        # find the tag(td) and the class(ratingColumn), then the text in the tag(strong) for the movie's rating\n",
    "        rating = movie.find('td', class_ = 'ratingColumn imdbRating').strong.text\n",
    "        #print(rating) - type:string\n",
    "        \n",
    "        #print(rank, title, year, rating)\n",
    "        sheet.append([rank, title, year, rating])\n",
    "\n",
    "except Exception as e:\n",
    "    print(e)"
   ]
  },
  {
   "cell_type": "code",
   "execution_count": 4,
   "id": "79630d16",
   "metadata": {},
   "outputs": [],
   "source": [
    "# save excel file\n",
    "excel.save('IMDB Top 250 Movies.xlsx')"
   ]
  }
 ],
 "metadata": {
  "kernelspec": {
   "display_name": "Python 3 (ipykernel)",
   "language": "python",
   "name": "python3"
  },
  "language_info": {
   "codemirror_mode": {
    "name": "ipython",
    "version": 3
   },
   "file_extension": ".py",
   "mimetype": "text/x-python",
   "name": "python",
   "nbconvert_exporter": "python",
   "pygments_lexer": "ipython3",
   "version": "3.11.2"
  }
 },
 "nbformat": 4,
 "nbformat_minor": 5
}
